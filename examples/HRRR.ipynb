{
 "cells": [
  {
   "cell_type": "markdown",
   "id": "99b06d46-0ccd-4c09-800b-853dc3f23ecf",
   "metadata": {},
   "source": [
    "# Intor"
   ]
  },
  {
   "cell_type": "markdown",
   "id": "34f0d427-2c71-40e6-ab0c-593739b38c1f",
   "metadata": {},
   "source": [
    "the package cames with an api and some scripts\n",
    "\n",
    "Originally the data extraction was based on the data available on various ftp sites (GSL internal and NCEP). However, the newest and most recommended source for the data is the AWS. \n",
    "\n",
    "To learn about how to use the library and set up your own extraction projects, learn from the script /hrrr_sraper/hrrr_scraper/scripts/scrape_hrrr_2_1.py ."
   ]
  },
  {
   "cell_type": "code",
   "execution_count": null,
   "id": "49db41f1-e08e-4a08-a987-935f4cacea23",
   "metadata": {},
   "outputs": [],
   "source": []
  },
  {
   "cell_type": "code",
   "execution_count": null,
   "id": "e581fec0-92d2-482e-b728-fde4c4d10e57",
   "metadata": {},
   "outputs": [],
   "source": []
  },
  {
   "cell_type": "markdown",
   "id": "35d799ea-ff79-40bd-a5cf-39822eb0f9e7",
   "metadata": {},
   "source": [
    "# grib files"
   ]
  },
  {
   "cell_type": "code",
   "execution_count": 2,
   "id": "64b888de-93dc-4b82-a8bc-be772e1296eb",
   "metadata": {},
   "outputs": [],
   "source": [
    "import pygrib"
   ]
  },
  {
   "cell_type": "code",
   "execution_count": 3,
   "id": "52fccc38-e973-44b8-9d23-39d4d323145e",
   "metadata": {},
   "outputs": [],
   "source": [
    "p2fld = pl.Path('/mnt/telg/prog/hrrr_sraper/examples/operationalize/ncep_hrrr_2d.2133506000000.grib2')"
   ]
  },
  {
   "cell_type": "code",
   "execution_count": 5,
   "id": "3a500141-a416-4f0d-b8e0-d48c6a12e1c1",
   "metadata": {},
   "outputs": [],
   "source": [
    "grbgs = pygrib.open(p2fld.as_posix())"
   ]
  },
  {
   "cell_type": "code",
   "execution_count": 4,
   "id": "adf7ec81-32fd-42ed-baff-da2bce9054b2",
   "metadata": {},
   "outputs": [],
   "source": [
    "with  pygrib.open(p2fld.as_posix()) as grbgs:\n",
    "    grb = grbgs[1]\n",
    "    pass"
   ]
  },
  {
   "cell_type": "code",
   "execution_count": 7,
   "id": "3b93b067-51c0-4127-9b90-7a2e21dd1b92",
   "metadata": {},
   "outputs": [],
   "source": [
    "grbgs.close()"
   ]
  },
  {
   "cell_type": "code",
   "execution_count": null,
   "id": "c4b7e307-83dd-4d1b-9dc6-a3f698faf5fa",
   "metadata": {},
   "outputs": [],
   "source": [
    "grb = grbgs[1]"
   ]
  },
  {
   "cell_type": "code",
   "execution_count": null,
   "id": "b3040d9e-2a3a-446d-bf21-fea3abaacf44",
   "metadata": {},
   "outputs": [],
   "source": [
    "basics = {}\n",
    "\n",
    "grb = grbgs[1]\n",
    "\n",
    "basics['forecastTime'] = grb.forecastTime\n",
    "\n",
    "basics['cycledatetime'] = pd.to_datetime(f'{grb.year}-{grb.month:02d}-{grb.day:02d} {grb.hour:02d}:{grb.minute:02d}:{grb.second:02d}')"
   ]
  },
  {
   "cell_type": "code",
   "execution_count": 56,
   "id": "26d4d0ec-f351-4ab5-b7db-9724dd3628c1",
   "metadata": {},
   "outputs": [
    {
     "name": "stdout",
     "output_type": "stream",
     "text": [
      "                            globalDomain: \t g\n",
      "                       GRIBEditionNumber: \t 2\n",
      "             tablesVersionLatestOfficial: \t 26\n",
      "                     tablesVersionLatest: \t 27\n",
      "                            grib2divider: \t 1000000\n",
      "                                 is_efas: \t 0\n",
      "                       angleSubdivisions: \t 1000000\n",
      "                            missingValue: \t 9999\n",
      "                              ieeeFloats: \t 1\n",
      "                              isHindcast: \t 0\n",
      "                          section0Length: \t 16\n",
      "                              identifier: \t GRIB\n",
      "                              discipline: \t 0\n",
      "                           editionNumber: \t 2\n",
      "                             totalLength: \t 273765\n",
      "                           sectionNumber: \t [1 3 3 4 5 6 7]\n",
      "                          section1Length: \t 21\n",
      "                         numberOfSection: \t [1 3 4 5 6 7]\n",
      "                                  centre: \t kwbc\n",
      "                       centreDescription: \t US National Weather Service - NCEP\n",
      "                               subCentre: \t 0\n",
      "                           tablesVersion: \t 2\n",
      "                               masterDir: \t grib2/tables/[tablesVersion]\n",
      "                      localTablesVersion: \t 1\n",
      "             significanceOfReferenceTime: \t 1\n",
      "                                    year: \t 2021\n",
      "                                   month: \t 12\n",
      "                                     day: \t 1\n",
      "                                    hour: \t 6\n",
      "                                  minute: \t 0\n",
      "                                  second: \t 0\n",
      "                                dataDate: \t 20211201\n",
      "                               julianDay: \t 2459549.75\n",
      "                                dataTime: \t 600\n",
      "         productionStatusOfProcessedData: \t 0\n",
      "                     typeOfProcessedData: \t fc\n",
      "                             md5Section1: \t d8d2f709bba79caaea7e9662082bcf60\n",
      "              selectStepTemplateInterval: \t 1\n",
      "               selectStepTemplateInstant: \t 1\n",
      "                                stepType: \t instant\n",
      "                             is_chemical: \t 0\n",
      "                      is_chemical_distfn: \t 0\n",
      "                     is_chemical_srcsink: \t 0\n",
      "                              is_aerosol: \t 0\n",
      "                      is_aerosol_optical: \t 0\n",
      "                           setCalendarId: \t 0\n",
      "                        deleteCalendarId: \t 0\n",
      "                                is_uerra: \t 0\n",
      "                           sectionNumber: \t [1 3 3 4 5 6 7]\n",
      "                grib2LocalSectionPresent: \t 0\n",
      "                   deleteLocalDefinition: \t 0\n",
      "                           sectionNumber: \t [1 3 3 4 5 6 7]\n",
      "           gridDescriptionSectionPresent: \t 1\n",
      "                          section3Length: \t 81\n",
      "                         numberOfSection: \t [1 3 4 5 6 7]\n",
      "                  sourceOfGridDefinition: \t 0\n",
      "                      numberOfDataPoints: \t 1905141\n",
      "        numberOfOctectsForNumberOfPoints: \t 0\n",
      "          interpretationOfNumberOfPoints: \t 0\n",
      "                               PLPresent: \t 0\n",
      "            gridDefinitionTemplateNumber: \t 30\n",
      "               gridDefinitionDescription: \t Lambert Conformal can be secant or tangent, conical or bipolar\n",
      "                         shapeOfTheEarth: \t 6\n",
      "     scaleFactorOfRadiusOfSphericalEarth: \t 0\n",
      "     scaledValueOfRadiusOfSphericalEarth: \t 0\n",
      "             scaleFactorOfEarthMajorAxis: \t 0\n",
      "             scaledValueOfEarthMajorAxis: \t 0\n",
      "             scaleFactorOfEarthMinorAxis: \t 0\n",
      "             scaledValueOfEarthMinorAxis: \t 0\n",
      "                                  radius: \t 6371229\n",
      "                                      Nx: \t 1799\n",
      "                                      Ny: \t 1059\n",
      "                latitudeOfFirstGridPoint: \t 21138123\n",
      "       latitudeOfFirstGridPointInDegrees: \t 21.138123\n",
      "               longitudeOfFirstGridPoint: \t 237280472\n",
      "      longitudeOfFirstGridPointInDegrees: \t 237.280472\n",
      "             resolutionAndComponentFlags: \t 8\n",
      "            resolutionAndComponentFlags1: \t 0\n",
      "            resolutionAndComponentFlags2: \t 0\n",
      "                iDirectionIncrementGiven: \t 0\n",
      "                jDirectionIncrementGiven: \t 0\n",
      "                        uvRelativeToGrid: \t 1\n",
      "            resolutionAndComponentFlags6: \t 0\n",
      "            resolutionAndComponentFlags7: \t 0\n",
      "            resolutionAndComponentFlags8: \t 0\n",
      "               ijDirectionIncrementGiven: \t 0\n",
      "                                     LaD: \t 38500000\n",
      "                            LaDInDegrees: \t 38.5\n",
      "                                     LoV: \t 262500000\n",
      "                            LoVInDegrees: \t 262.5\n",
      "                                      Dx: \t 3000000\n",
      "                              DxInMetres: \t 3000.0\n",
      "                                      Dy: \t 3000000\n",
      "                              DyInMetres: \t 3000.0\n",
      "                    projectionCentreFlag: \t 0\n",
      "                            scanningMode: \t 64\n",
      "                        iScansNegatively: \t 0\n",
      "                        jScansPositively: \t 1\n",
      "                   jPointsAreConsecutive: \t 0\n",
      "                  alternativeRowScanning: \t 0\n",
      "                        iScansPositively: \t 1\n",
      "                           scanningMode5: \t 0\n",
      "                           scanningMode6: \t 0\n",
      "                           scanningMode7: \t 0\n",
      "                           scanningMode8: \t 0\n",
      "                                  Latin1: \t 38500000\n",
      "                         Latin1InDegrees: \t 38.5\n",
      "                                  Latin2: \t 38500000\n",
      "                         Latin2InDegrees: \t 38.5\n",
      "                  latitudeOfSouthernPole: \t 0\n",
      "         latitudeOfSouthernPoleInDegrees: \t 0.0\n",
      "                 longitudeOfSouthernPole: \t 0\n",
      "        longitudeOfSouthernPoleInDegrees: \t 0.0\n",
      "                            latLonValues: \t [ 21.138123   237.280472   -10.         ...  47.84219502 299.08280723\n",
      " -10.        ]\n",
      "                               latitudes: \t [21.138123   21.14511004 21.1520901  ... 47.86277069 47.85248789\n",
      " 47.84219502]\n",
      "                              longitudes: \t [237.280472   237.30713868 237.3338097  ... 299.00968806 299.04625373\n",
      " 299.08280723]\n",
      "                       distinctLatitudes: \t [21.138123   21.14054663 21.14511004 ... 52.6156451  52.61564933\n",
      " 52.61565331]\n",
      "                      distinctLongitudes: \t [225.90452027 225.91986142 225.9351904  ... 299.05214538 299.06747022\n",
      " 299.08280723]\n",
      "                                gridType: \t lambert\n",
      "                             md5Section3: \t 78367561440d7c7b608b8532a02e4780\n",
      "                           sectionNumber: \t [1 3 3 4 5 6 7]\n",
      "                          section4Length: \t 34\n",
      "                         numberOfSection: \t [1 3 4 5 6 7]\n",
      "                                      NV: \t 0\n",
      "                          neitherPresent: \t 0\n",
      "         productDefinitionTemplateNumber: \t 0\n",
      "                     genVertHeightCoords: \t 0\n",
      "                       parameterCategory: \t 16\n",
      "                         parameterNumber: \t 196\n",
      "                          parameterUnits: \t 196\n",
      "                           parameterName: \t 196\n",
      "                 typeOfGeneratingProcess: \t 2\n",
      "                       backgroundProcess: \t 0\n",
      "             generatingProcessIdentifier: \t 83\n",
      "                    hoursAfterDataCutoff: \t 0\n",
      "                  minutesAfterDataCutoff: \t 0\n",
      "              indicatorOfUnitOfTimeRange: \t 1\n",
      "                               stepUnits: \t 1\n",
      "                            forecastTime: \t 0\n",
      "                               startStep: \t 0\n",
      "                                 endStep: \t 0\n",
      "                               stepRange: \t 0\n",
      "                        stepTypeInternal: \t instant\n",
      "                            validityDate: \t 20211201\n",
      "                            validityTime: \t 600\n",
      "                 typeOfFirstFixedSurface: \t 10\n",
      "                unitsOfFirstFixedSurface: \t -\n",
      "                 nameOfFirstFixedSurface: \t Entire atmosphere\n",
      "          scaleFactorOfFirstFixedSurface: \t 0\n",
      "          scaledValueOfFirstFixedSurface: \t 0\n",
      "                typeOfSecondFixedSurface: \t 255\n",
      "               unitsOfSecondFixedSurface: \t unknown\n",
      "                nameOfSecondFixedSurface: \t Missing\n",
      "         scaleFactorOfSecondFixedSurface: \t 0\n",
      "         scaledValueOfSecondFixedSurface: \t 0\n",
      "                           pressureUnits: \t hPa\n",
      "                             typeOfLevel: \t atmosphere\n",
      "                                   level: \t 0\n",
      "                             bottomLevel: \t 0\n",
      "                                topLevel: \t 0\n",
      "                       tempPressureUnits: \t hPa\n",
      "                             paramIdECMF: \t 0\n",
      "                                 paramId: \t 260390\n",
      "                           shortNameECMF: \t unknown\n",
      "                               shortName: \t refc\n",
      "                               unitsECMF: \t unknown\n",
      "                                   units: \t dB\n",
      "                                nameECMF: \t unknown\n",
      "                                    name: \t Maximum/Composite radar reflectivity\n",
      "                              cfNameECMF: \t unknown\n",
      "                                  cfName: \t unknown\n",
      "                           cfVarNameECMF: \t unknown\n",
      "                               cfVarName: \t unknown\n",
      "                               modelName: \t unknown\n",
      "                                ifsParam: \t 260390\n",
      "                               PVPresent: \t 0\n",
      "                                deletePV: \t 1\n",
      "                             md5Section4: \t a55eeb27affd1a8b23bf3ac70c1bdbbe\n",
      "                         lengthOfHeaders: \t 136\n",
      "                              md5Headers: \t 0bada3881697a9afcf5a1d05f1e5deb2\n",
      "                           sectionNumber: \t [1 3 3 4 5 6 7]\n",
      "                          section5Length: \t 49\n",
      "                         numberOfSection: \t [1 3 4 5 6 7]\n",
      "                          numberOfValues: \t 1905141\n",
      "        dataRepresentationTemplateNumber: \t 3\n",
      "                             packingType: \t grid_complex_spatial_differencing\n",
      "                          referenceValue: \t -10.0\n",
      "                     referenceValueError: \t 9.5367431640625e-07\n",
      "                       binaryScaleFactor: \t -4\n",
      "                      decimalScaleFactor: \t 0\n",
      "                     optimizeScaleFactor: \t 0\n",
      "                            bitsPerValue: \t 12\n",
      "               typeOfOriginalFieldValues: \t 0\n",
      "                groupSplittingMethodUsed: \t 1\n",
      "              missingValueManagementUsed: \t 0\n",
      "           primaryMissingValueSubstitute: \t 0\n",
      "         secondaryMissingValueSubstitute: \t 0\n",
      "              numberOfGroupsOfDataValues: \t 22597\n",
      "                 referenceForGroupWidths: \t 0\n",
      "       numberOfBitsUsedForTheGroupWidths: \t 4\n",
      "                referenceForGroupLengths: \t 1\n",
      "       lengthIncrementForTheGroupLengths: \t 1\n",
      "                   trueLengthOfLastGroup: \t 1024\n",
      "       numberOfBitsForScaledGroupLengths: \t 10\n",
      "              orderOfSpatialDifferencing: \t 2\n",
      "          numberOfOctetsExtraDescriptors: \t 2\n",
      "                             md5Section5: \t 68febb32a4645aaee9bd3d6ab3bdb468\n",
      "                           sectionNumber: \t [1 3 3 4 5 6 7]\n",
      "                          section6Length: \t 6\n",
      "                         numberOfSection: \t [1 3 4 5 6 7]\n",
      "                         bitMapIndicator: \t 255\n",
      "                           bitmapPresent: \t 0\n",
      "                    missingValuesPresent: \t [0 0]\n",
      "                             md5Section6: \t 01522c0fd43e4befb347e7995baa0167\n",
      "                           sectionNumber: \t [1 3 3 4 5 6 7]\n",
      "                          section7Length: \t 273554\n",
      "                         numberOfSection: \t [1 3 4 5 6 7]\n",
      "                             codedValues: \t [-10. -10. -10. ... -10. -10. -10.]\n",
      "                                  values: \t [[-10. -10. -10. ... -10. -10. -10.]\n",
      " [-10. -10. -10. ... -10. -10. -10.]\n",
      " [-10. -10. -10. ... -10. -10. -10.]\n",
      " ...\n",
      " [-10. -10. -10. ... -10. -10. -10.]\n",
      " [-10. -10. -10. ... -10. -10. -10.]\n",
      " [-10. -10. -10. ... -10. -10. -10.]]\n",
      "                                 maximum: \t 74.875\n",
      "                                 minimum: \t -10.0\n",
      "                                 average: \t -8.39715426574726\n",
      "                         numberOfMissing: \t 0\n",
      "                       standardDeviation: \t 5.8235296805608625\n",
      "                                skewness: \t 4.0017314867103915\n",
      "                                kurtosis: \t 16.21166310106169\n",
      "                              isConstant: \t 0.0\n",
      "                  changeDecimalPrecision: \t 0\n",
      "                        decimalPrecision: \t 0\n",
      "                         setBitsPerValue: \t 12\n",
      "                       getNumberOfValues: \t 1905141\n",
      "                           scaleValuesBy: \t 1.0\n",
      "                          offsetValuesBy: \t 0.0\n",
      "                             productType: \t unknown\n",
      "                             md5Section7: \t f0f53d87381a61a6ab592ade470af32f\n",
      "                          section8Length: \t 4\n"
     ]
    }
   ],
   "source": [
    "for k in grb.keys():\n",
    "    if k in ['analDate', 'validDate']:\n",
    "        continue\n",
    "    print(f'{k: >40}: \\t {grb[k]}')\n",
    "    # break"
   ]
  },
  {
   "cell_type": "code",
   "execution_count": 20,
   "id": "0c6f0a94-51f1-42cf-b476-bc3b0021e1f4",
   "metadata": {},
   "outputs": [
    {
     "ename": "RuntimeError",
     "evalue": "b'Key/value not found'",
     "output_type": "error",
     "traceback": [
      "\u001b[0;31m---------------------------------------------------------------------------\u001b[0m",
      "\u001b[0;31mRuntimeError\u001b[0m                              Traceback (most recent call last)",
      "\u001b[0;32m/tmp/ipykernel_8520/251280951.py\u001b[0m in \u001b[0;36m<cell line: 1>\u001b[0;34m()\u001b[0m\n\u001b[0;32m----> 1\u001b[0;31m \u001b[0mgrb\u001b[0m\u001b[0;34m[\u001b[0m\u001b[0mk\u001b[0m\u001b[0;34m]\u001b[0m\u001b[0;34m\u001b[0m\u001b[0;34m\u001b[0m\u001b[0m\n\u001b[0m",
      "\u001b[0;32msrc/pygrib/_pygrib.pyx\u001b[0m in \u001b[0;36mpygrib._pygrib.gribmessage.__getitem__\u001b[0;34m()\u001b[0m\n",
      "\u001b[0;31mRuntimeError\u001b[0m: b'Key/value not found'"
     ]
    }
   ],
   "source": [
    "grb[k]"
   ]
  },
  {
   "cell_type": "code",
   "execution_count": 25,
   "id": "13391268-8bfe-4134-a921-bd80f75e0c2a",
   "metadata": {},
   "outputs": [
    {
     "data": {
      "text/plain": [
       "'validDate'"
      ]
     },
     "execution_count": 25,
     "metadata": {},
     "output_type": "execute_result"
    }
   ],
   "source": [
    "k"
   ]
  },
  {
   "cell_type": "code",
   "execution_count": 23,
   "id": "7f891175-5d89-4c71-96c1-12ed2545edb0",
   "metadata": {},
   "outputs": [
    {
     "data": {
      "text/plain": [
       "'operationalize/ncep_hrrr_2d.2133506000000.grib2'"
      ]
     },
     "execution_count": 23,
     "metadata": {},
     "output_type": "execute_result"
    }
   ],
   "source": [
    "grbgs."
   ]
  },
  {
   "cell_type": "code",
   "execution_count": null,
   "id": "6df8c7df-bc41-424f-a9f7-115f4cf3c192",
   "metadata": {},
   "outputs": [],
   "source": []
  }
 ],
 "metadata": {
  "kernelspec": {
   "display_name": "py11t2",
   "language": "python",
   "name": "py11t2"
  },
  "language_info": {
   "codemirror_mode": {
    "name": "ipython",
    "version": 3
   },
   "file_extension": ".py",
   "mimetype": "text/x-python",
   "name": "python",
   "nbconvert_exporter": "python",
   "pygments_lexer": "ipython3",
   "version": "3.11.9"
  }
 },
 "nbformat": 4,
 "nbformat_minor": 5
}
