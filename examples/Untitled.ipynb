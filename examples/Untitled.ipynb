{
 "cells": [
  {
   "cell_type": "markdown",
   "id": "99b06d46-0ccd-4c09-800b-853dc3f23ecf",
   "metadata": {},
   "source": [
    "# Intor"
   ]
  },
  {
   "cell_type": "markdown",
   "id": "34f0d427-2c71-40e6-ab0c-593739b38c1f",
   "metadata": {},
   "source": [
    "the package cames with an api and some scripts"
   ]
  },
  {
   "cell_type": "markdown",
   "id": "fddf3d81-43e8-49cd-8c32-cdbe303a3f69",
   "metadata": {},
   "source": [
    "# API"
   ]
  },
  {
   "cell_type": "code",
   "execution_count": null,
   "id": "192e65be-2d66-48af-a048-fd157a1d66cd",
   "metadata": {},
   "outputs": [],
   "source": []
  }
 ],
 "metadata": {
  "kernelspec": {
   "display_name": "py38",
   "language": "python",
   "name": "py38"
  },
  "language_info": {
   "codemirror_mode": {
    "name": "ipython",
    "version": 3
   },
   "file_extension": ".py",
   "mimetype": "text/x-python",
   "name": "python",
   "nbconvert_exporter": "python",
   "pygments_lexer": "ipython3",
   "version": "3.8.8"
  }
 },
 "nbformat": 4,
 "nbformat_minor": 5
}
