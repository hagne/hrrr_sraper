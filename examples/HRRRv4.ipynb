{
 "cells": [
  {
   "cell_type": "markdown",
   "id": "99b06d46-0ccd-4c09-800b-853dc3f23ecf",
   "metadata": {},
   "source": [
    "# Intor"
   ]
  },
  {
   "cell_type": "markdown",
   "id": "34f0d427-2c71-40e6-ab0c-593739b38c1f",
   "metadata": {},
   "source": [
    "the package cames with an api and some scripts"
   ]
  },
  {
   "cell_type": "code",
   "execution_count": null,
   "id": "49db41f1-e08e-4a08-a987-935f4cacea23",
   "metadata": {},
   "outputs": [],
   "source": []
  },
  {
   "cell_type": "code",
   "execution_count": null,
   "id": "e581fec0-92d2-482e-b728-fde4c4d10e57",
   "metadata": {},
   "outputs": [],
   "source": []
  },
  {
   "cell_type": "markdown",
   "id": "8d71728e-a538-4a92-9abb-9fd28f1030a3",
   "metadata": {},
   "source": [
    "# Implentation of AWS"
   ]
  },
  {
   "cell_type": "markdown",
   "id": "bf44bf55-7c09-4d7d-a64f-aaa483ce257d",
   "metadata": {},
   "source": [
    "# OLD"
   ]
  },
  {
   "cell_type": "markdown",
   "id": "fddf3d81-43e8-49cd-8c32-cdbe303a3f69",
   "metadata": {},
   "source": [
    "# API"
   ]
  },
  {
   "cell_type": "markdown",
   "id": "d6184fb5-c830-4b53-9322-cddadee23b8b",
   "metadata": {},
   "source": [
    "# Run the current version"
   ]
  },
  {
   "cell_type": "code",
   "execution_count": 1,
   "id": "da3e41ab-c6bf-4c26-a499-458902612dcd",
   "metadata": {},
   "outputs": [
    {
     "data": {
      "text/plain": [
       "23087"
      ]
     },
     "execution_count": 1,
     "metadata": {},
     "output_type": "execute_result"
    }
   ],
   "source": [
    "from hrrr_scraper import scrapelab\n",
    "from atmPy.data_archives.NOAA_ESRL_GMD_GRAD.surfrad import surfrad\n",
    "import atmPy.data_archives.noaa_gml\n",
    "from atmPy.general import measurement_site as ms\n",
    "from mpl_toolkits.basemap import Basemap\n",
    "import os\n",
    "os.getpid()"
   ]
  },
  {
   "cell_type": "markdown",
   "id": "7537ecfb-3de5-4a4b-9182-2fc185003913",
   "metadata": {},
   "source": [
    "## loade sites"
   ]
  },
  {
   "cell_type": "markdown",
   "id": "16e6dec5-c874-49bb-b24f-bc97fe343746",
   "metadata": {},
   "source": [
    "### surfrad sites"
   ]
  },
  {
   "cell_type": "code",
   "execution_count": 5,
   "id": "278dd1e0-53f6-4494-8138-26e98270d7b4",
   "metadata": {},
   "outputs": [],
   "source": [
    "sites = surfrad.network"
   ]
  },
  {
   "cell_type": "markdown",
   "id": "60af581b-76f3-4e40-902d-58eab20d25ed",
   "metadata": {},
   "source": [
    "### gml_sites"
   ]
  },
  {
   "cell_type": "code",
   "execution_count": 2,
   "id": "d12db160-4cc8-4da1-b521-56afcd8033cb",
   "metadata": {},
   "outputs": [],
   "source": [
    "gml_sites = atmPy.data_archives.noaa_gml.get_all_sites()\n",
    "# extra from Betsy\n",
    "gml_sites.add_station(ms.Station(abbreviation= 'GBN',name = 'Great Basin NP', state='NV', lat=39.005147, lon= -114.215994, alt = 2061))\n",
    "gml_sites.add_station(ms.Station(abbreviation= 'AUS',name = 'Austin', state = 'NV', lat= 39.503006, lon= -117.081512, alt =  1915))\n",
    "gml_sites.add_station(ms.Station(abbreviation= 'WMS',name = 'White Mtn Summit', state = 'CA', lat=37.634093, lon=-118.255688, alt=4343))\n",
    "gml_sites.add_station(ms.Station(abbreviation= 'BCO',name = 'Barcroft Obs', state = 'CA', lat=37.58925, lon=-118.238703, alt=3889))\n",
    "\n",
    "if 0:\n",
    "    bmap = Basemap(projection='robin',lon_0=0,resolution='c')\n",
    "    bmap.bluemarble()\n",
    "\n",
    "    gml_sites.plot(bmap = bmap)\n",
    "    f = plt.gcf()\n",
    "    scale = 2\n",
    "    f.set_figwidth(f.get_figwidth() * scale)\n",
    "    f.set_figheight(f.get_figheight() * scale)"
   ]
  },
  {
   "cell_type": "markdown",
   "id": "70bd7019-8851-4ab8-8876-48269e998835",
   "metadata": {},
   "source": [
    "# update to NCEP archive data"
   ]
  },
  {
   "cell_type": "code",
   "execution_count": 3,
   "id": "64844453-305e-46d0-a180-52f734382713",
   "metadata": {},
   "outputs": [],
   "source": [
    "import hrrr_scraper.hrrr_lab as hrrr_lab"
   ]
  },
  {
   "cell_type": "code",
   "execution_count": 64,
   "id": "a84821a3-b58e-4df5-8e92-0e14d754d209",
   "metadata": {},
   "outputs": [
    {
     "data": {
      "text/plain": [
       "<module 'hrrr_scraper.hrrr_lab' from '/mnt/telg/prog/hrrr_sraper/hrrr_scraper/hrrr_lab.py'>"
      ]
     },
     "execution_count": 64,
     "metadata": {},
     "output_type": "execute_result"
    }
   ],
   "source": [
    "reload(hrrr_lab)"
   ]
  },
  {
   "cell_type": "code",
   "execution_count": 77,
   "id": "85e0e7ef-c6bb-4dac-9727-d3e066f3a3bd",
   "metadata": {},
   "outputs": [],
   "source": [
    "# sites = surfrad.network.stations\n",
    "sites = gml_sites\n",
    "pp = hrrr_lab.ProjectorProject(sites,\n",
    "                               path2raw='/mnt/telg/tmp/hrrr_tmp/',\n",
    "                               path2projected_individual='/mnt/telg/tmp/hrrr_tmp_inter/',\n",
    "                               path2projected_final='/mnt/telg/projects/smoke_at_gml_sites/data/wrfnat/',\n",
    "                               ftp_server='ftp.ncep.noaa.gov',\n",
    "                               ftp_path2files='/pub/data/nccf/com/hrrr/prod',\n",
    "                               max_forcast_interval=18,\n",
    "                            )"
   ]
  },
  {
   "cell_type": "code",
   "execution_count": 78,
   "id": "d0115a6c-436f-455c-a836-6452fcfa979f",
   "metadata": {},
   "outputs": [],
   "source": [
    "pp.verbose = True\n",
    "pp.remove_from_workplan_when_output_exists = False"
   ]
  },
  {
   "cell_type": "code",
   "execution_count": 79,
   "id": "81bf3478-2243-4dde-a559-9ab4ced9612a",
   "metadata": {},
   "outputs": [
    {
     "name": "stdout",
     "output_type": "stream",
     "text": [
      "ftp: available days: ['hrrr.20220104', 'hrrr.20220105']\n",
      "ftp: enter day: hrrr.20220104\n",
      "ftp: whats here: ['alaska', 'conus']\n",
      "ftp: entering conus\n",
      "ftp: no of files in here 4441\n",
      "ftp: no of files ending on grib 2184\n",
      "ftp: no of files with: if 'wrfnat' in f.split('.')[-2]: 576\n",
      "ftp: enter day: hrrr.20220105\n",
      "ftp: whats here: ['alaska', 'conus']\n",
      "ftp: entering conus\n",
      "ftp: no of files in here 3331\n",
      "ftp: no of files ending on grib 1638\n",
      "ftp: no of files with: if 'wrfnat' in f.split('.')[-2]: 432\n"
     ]
    },
    {
     "data": {
      "text/html": [
       "<div>\n",
       "<style scoped>\n",
       "    .dataframe tbody tr th:only-of-type {\n",
       "        vertical-align: middle;\n",
       "    }\n",
       "\n",
       "    .dataframe tbody tr th {\n",
       "        vertical-align: top;\n",
       "    }\n",
       "\n",
       "    .dataframe thead th {\n",
       "        text-align: right;\n",
       "    }\n",
       "</style>\n",
       "<table border=\"1\" class=\"dataframe\">\n",
       "  <thead>\n",
       "    <tr style=\"text-align: right;\">\n",
       "      <th></th>\n",
       "      <th>files_on_ftp</th>\n",
       "      <th>cycle_datetime</th>\n",
       "      <th>forcast_interval</th>\n",
       "      <th>path2tempfile</th>\n",
       "      <th>path2file</th>\n",
       "      <th>output_file_exits</th>\n",
       "    </tr>\n",
       "  </thead>\n",
       "  <tbody>\n",
       "    <tr>\n",
       "      <th>0</th>\n",
       "      <td>/pub/data/nccf/com/hrrr/prod/hrrr.20220104/con...</td>\n",
       "      <td>2022-01-04 00:00:00</td>\n",
       "      <td>0</td>\n",
       "      <td>/mnt/telg/tmp/hrrr_tmp/hrrr.t00z.wrfnatf00.grib2</td>\n",
       "      <td>/mnt/telg/tmp/hrrr_tmp_inter/20220104_00_fi00.nc</td>\n",
       "      <td>True</td>\n",
       "    </tr>\n",
       "    <tr>\n",
       "      <th>1</th>\n",
       "      <td>/pub/data/nccf/com/hrrr/prod/hrrr.20220104/con...</td>\n",
       "      <td>2022-01-04 00:00:00</td>\n",
       "      <td>1</td>\n",
       "      <td>/mnt/telg/tmp/hrrr_tmp/hrrr.t00z.wrfnatf01.grib2</td>\n",
       "      <td>/mnt/telg/tmp/hrrr_tmp_inter/20220104_00_fi01.nc</td>\n",
       "      <td>True</td>\n",
       "    </tr>\n",
       "    <tr>\n",
       "      <th>2</th>\n",
       "      <td>/pub/data/nccf/com/hrrr/prod/hrrr.20220104/con...</td>\n",
       "      <td>2022-01-04 00:00:00</td>\n",
       "      <td>2</td>\n",
       "      <td>/mnt/telg/tmp/hrrr_tmp/hrrr.t00z.wrfnatf02.grib2</td>\n",
       "      <td>/mnt/telg/tmp/hrrr_tmp_inter/20220104_00_fi02.nc</td>\n",
       "      <td>True</td>\n",
       "    </tr>\n",
       "    <tr>\n",
       "      <th>3</th>\n",
       "      <td>/pub/data/nccf/com/hrrr/prod/hrrr.20220104/con...</td>\n",
       "      <td>2022-01-04 00:00:00</td>\n",
       "      <td>3</td>\n",
       "      <td>/mnt/telg/tmp/hrrr_tmp/hrrr.t00z.wrfnatf03.grib2</td>\n",
       "      <td>/mnt/telg/tmp/hrrr_tmp_inter/20220104_00_fi03.nc</td>\n",
       "      <td>True</td>\n",
       "    </tr>\n",
       "    <tr>\n",
       "      <th>4</th>\n",
       "      <td>/pub/data/nccf/com/hrrr/prod/hrrr.20220104/con...</td>\n",
       "      <td>2022-01-04 00:00:00</td>\n",
       "      <td>4</td>\n",
       "      <td>/mnt/telg/tmp/hrrr_tmp/hrrr.t00z.wrfnatf04.grib2</td>\n",
       "      <td>/mnt/telg/tmp/hrrr_tmp_inter/20220104_00_fi04.nc</td>\n",
       "      <td>True</td>\n",
       "    </tr>\n",
       "    <tr>\n",
       "      <th>...</th>\n",
       "      <td>...</td>\n",
       "      <td>...</td>\n",
       "      <td>...</td>\n",
       "      <td>...</td>\n",
       "      <td>...</td>\n",
       "      <td>...</td>\n",
       "    </tr>\n",
       "    <tr>\n",
       "      <th>1003</th>\n",
       "      <td>/pub/data/nccf/com/hrrr/prod/hrrr.20220105/con...</td>\n",
       "      <td>2022-01-05 17:00:00</td>\n",
       "      <td>14</td>\n",
       "      <td>/mnt/telg/tmp/hrrr_tmp/hrrr.t17z.wrfnatf14.grib2</td>\n",
       "      <td>/mnt/telg/tmp/hrrr_tmp_inter/20220105_17_fi14.nc</td>\n",
       "      <td>True</td>\n",
       "    </tr>\n",
       "    <tr>\n",
       "      <th>1004</th>\n",
       "      <td>/pub/data/nccf/com/hrrr/prod/hrrr.20220105/con...</td>\n",
       "      <td>2022-01-05 17:00:00</td>\n",
       "      <td>15</td>\n",
       "      <td>/mnt/telg/tmp/hrrr_tmp/hrrr.t17z.wrfnatf15.grib2</td>\n",
       "      <td>/mnt/telg/tmp/hrrr_tmp_inter/20220105_17_fi15.nc</td>\n",
       "      <td>True</td>\n",
       "    </tr>\n",
       "    <tr>\n",
       "      <th>1005</th>\n",
       "      <td>/pub/data/nccf/com/hrrr/prod/hrrr.20220105/con...</td>\n",
       "      <td>2022-01-05 17:00:00</td>\n",
       "      <td>16</td>\n",
       "      <td>/mnt/telg/tmp/hrrr_tmp/hrrr.t17z.wrfnatf16.grib2</td>\n",
       "      <td>/mnt/telg/tmp/hrrr_tmp_inter/20220105_17_fi16.nc</td>\n",
       "      <td>True</td>\n",
       "    </tr>\n",
       "    <tr>\n",
       "      <th>1006</th>\n",
       "      <td>/pub/data/nccf/com/hrrr/prod/hrrr.20220105/con...</td>\n",
       "      <td>2022-01-05 17:00:00</td>\n",
       "      <td>17</td>\n",
       "      <td>/mnt/telg/tmp/hrrr_tmp/hrrr.t17z.wrfnatf17.grib2</td>\n",
       "      <td>/mnt/telg/tmp/hrrr_tmp_inter/20220105_17_fi17.nc</td>\n",
       "      <td>True</td>\n",
       "    </tr>\n",
       "    <tr>\n",
       "      <th>1007</th>\n",
       "      <td>/pub/data/nccf/com/hrrr/prod/hrrr.20220105/con...</td>\n",
       "      <td>2022-01-05 17:00:00</td>\n",
       "      <td>18</td>\n",
       "      <td>/mnt/telg/tmp/hrrr_tmp/hrrr.t17z.wrfnatf18.grib2</td>\n",
       "      <td>/mnt/telg/tmp/hrrr_tmp_inter/20220105_17_fi18.nc</td>\n",
       "      <td>True</td>\n",
       "    </tr>\n",
       "  </tbody>\n",
       "</table>\n",
       "<p>798 rows × 6 columns</p>\n",
       "</div>"
      ],
      "text/plain": [
       "                                           files_on_ftp      cycle_datetime  \\\n",
       "0     /pub/data/nccf/com/hrrr/prod/hrrr.20220104/con... 2022-01-04 00:00:00   \n",
       "1     /pub/data/nccf/com/hrrr/prod/hrrr.20220104/con... 2022-01-04 00:00:00   \n",
       "2     /pub/data/nccf/com/hrrr/prod/hrrr.20220104/con... 2022-01-04 00:00:00   \n",
       "3     /pub/data/nccf/com/hrrr/prod/hrrr.20220104/con... 2022-01-04 00:00:00   \n",
       "4     /pub/data/nccf/com/hrrr/prod/hrrr.20220104/con... 2022-01-04 00:00:00   \n",
       "...                                                 ...                 ...   \n",
       "1003  /pub/data/nccf/com/hrrr/prod/hrrr.20220105/con... 2022-01-05 17:00:00   \n",
       "1004  /pub/data/nccf/com/hrrr/prod/hrrr.20220105/con... 2022-01-05 17:00:00   \n",
       "1005  /pub/data/nccf/com/hrrr/prod/hrrr.20220105/con... 2022-01-05 17:00:00   \n",
       "1006  /pub/data/nccf/com/hrrr/prod/hrrr.20220105/con... 2022-01-05 17:00:00   \n",
       "1007  /pub/data/nccf/com/hrrr/prod/hrrr.20220105/con... 2022-01-05 17:00:00   \n",
       "\n",
       "      forcast_interval                                     path2tempfile  \\\n",
       "0                    0  /mnt/telg/tmp/hrrr_tmp/hrrr.t00z.wrfnatf00.grib2   \n",
       "1                    1  /mnt/telg/tmp/hrrr_tmp/hrrr.t00z.wrfnatf01.grib2   \n",
       "2                    2  /mnt/telg/tmp/hrrr_tmp/hrrr.t00z.wrfnatf02.grib2   \n",
       "3                    3  /mnt/telg/tmp/hrrr_tmp/hrrr.t00z.wrfnatf03.grib2   \n",
       "4                    4  /mnt/telg/tmp/hrrr_tmp/hrrr.t00z.wrfnatf04.grib2   \n",
       "...                ...                                               ...   \n",
       "1003                14  /mnt/telg/tmp/hrrr_tmp/hrrr.t17z.wrfnatf14.grib2   \n",
       "1004                15  /mnt/telg/tmp/hrrr_tmp/hrrr.t17z.wrfnatf15.grib2   \n",
       "1005                16  /mnt/telg/tmp/hrrr_tmp/hrrr.t17z.wrfnatf16.grib2   \n",
       "1006                17  /mnt/telg/tmp/hrrr_tmp/hrrr.t17z.wrfnatf17.grib2   \n",
       "1007                18  /mnt/telg/tmp/hrrr_tmp/hrrr.t17z.wrfnatf18.grib2   \n",
       "\n",
       "                                             path2file  output_file_exits  \n",
       "0     /mnt/telg/tmp/hrrr_tmp_inter/20220104_00_fi00.nc               True  \n",
       "1     /mnt/telg/tmp/hrrr_tmp_inter/20220104_00_fi01.nc               True  \n",
       "2     /mnt/telg/tmp/hrrr_tmp_inter/20220104_00_fi02.nc               True  \n",
       "3     /mnt/telg/tmp/hrrr_tmp_inter/20220104_00_fi03.nc               True  \n",
       "4     /mnt/telg/tmp/hrrr_tmp_inter/20220104_00_fi04.nc               True  \n",
       "...                                                ...                ...  \n",
       "1003  /mnt/telg/tmp/hrrr_tmp_inter/20220105_17_fi14.nc               True  \n",
       "1004  /mnt/telg/tmp/hrrr_tmp_inter/20220105_17_fi15.nc               True  \n",
       "1005  /mnt/telg/tmp/hrrr_tmp_inter/20220105_17_fi16.nc               True  \n",
       "1006  /mnt/telg/tmp/hrrr_tmp_inter/20220105_17_fi17.nc               True  \n",
       "1007  /mnt/telg/tmp/hrrr_tmp_inter/20220105_17_fi18.nc               True  \n",
       "\n",
       "[798 rows x 6 columns]"
      ]
     },
     "execution_count": 79,
     "metadata": {},
     "output_type": "execute_result"
    }
   ],
   "source": [
    "pp.workplan"
   ]
  },
  {
   "cell_type": "code",
   "execution_count": 18,
   "id": "0cddd396-d534-468d-813b-07dc03fd6135",
   "metadata": {},
   "outputs": [
    {
     "data": {
      "text/plain": [
       "'/pub/data/nccf/com/hrrr/prod'"
      ]
     },
     "execution_count": 18,
     "metadata": {},
     "output_type": "execute_result"
    }
   ],
   "source": [
    "self.ftp.pwd()"
   ]
  },
  {
   "cell_type": "code",
   "execution_count": 10,
   "id": "5bdaecd0-5a28-426e-855b-5deced47c592",
   "metadata": {},
   "outputs": [],
   "source": [
    "import ftplib"
   ]
  },
  {
   "cell_type": "code",
   "execution_count": 9,
   "id": "19c8818f-3e1b-4464-95eb-65987c6ef6e7",
   "metadata": {},
   "outputs": [],
   "source": [
    "self = pp"
   ]
  },
  {
   "cell_type": "code",
   "execution_count": 11,
   "id": "2278ba07-b4d6-425c-9ae6-5e0a8f492fbf",
   "metadata": {},
   "outputs": [],
   "source": [
    "ftp = ftplib.FTP(self.ftp_server) \n",
    "ftp.login(self.ftp_login, self.ftp_password) \n",
    "# out['ftp'] = ftp\n",
    "### navigate on ftp\n",
    "bla = ftp.cwd(self.ftp_path2files)\n",
    "# if verbose:\n",
    "#     print(bla)"
   ]
  },
  {
   "cell_type": "code",
   "execution_count": 13,
   "id": "e273cc95-5036-42ac-ac5d-3a5650d21409",
   "metadata": {},
   "outputs": [
    {
     "data": {
      "text/plain": [
       "'250 Directory successfully changed.'"
      ]
     },
     "execution_count": 13,
     "metadata": {},
     "output_type": "execute_result"
    }
   ],
   "source": [
    "ftp.cwd(self.ftp_path2files)"
   ]
  },
  {
   "cell_type": "code",
   "execution_count": 14,
   "id": "364ae256-0a01-41e5-a980-c4c476c791a5",
   "metadata": {},
   "outputs": [
    {
     "data": {
      "text/plain": [
       "['hrrr.20220104', 'hrrr.20220105']"
      ]
     },
     "execution_count": 14,
     "metadata": {},
     "output_type": "execute_result"
    }
   ],
   "source": [
    "self.ftp.nlst()"
   ]
  },
  {
   "cell_type": "code",
   "execution_count": 7,
   "id": "de5fba85-b464-4639-bfc3-4fb06863fbba",
   "metadata": {},
   "outputs": [
    {
     "data": {
      "text/plain": [
       "(0, 6)"
      ]
     },
     "execution_count": 7,
     "metadata": {},
     "output_type": "execute_result"
    }
   ],
   "source": [
    "pp.workplan.shape"
   ]
  },
  {
   "cell_type": "code",
   "execution_count": null,
   "id": "7841d3ab-7d91-48fe-92fc-6a5aa251b871",
   "metadata": {},
   "outputs": [],
   "source": [
    "pp._"
   ]
  },
  {
   "cell_type": "code",
   "execution_count": null,
   "id": "fb590723-bb64-4e96-a2f8-841887eb453d",
   "metadata": {},
   "outputs": [],
   "source": []
  },
  {
   "cell_type": "code",
   "execution_count": null,
   "id": "368fc867-b128-4377-b325-af31e5f8887c",
   "metadata": {},
   "outputs": [],
   "source": []
  },
  {
   "cell_type": "code",
   "execution_count": 7,
   "id": "4fb8418c-b0ef-4989-b3f4-2128a30f32b3",
   "metadata": {},
   "outputs": [
    {
     "name": "stdout",
     "output_type": "stream",
     "text": [
      "dldldldldl.pr.pr.pr.pr.pr.s.s.ul...dl.ul...dl.s.ul...dl.s.ul...dl.s.ul...dl.pr.pr.pr.pr.pr.s.ul...dl.s.ul...dl.s.ul...dl.pr.pr.s.ul...dl.s.ul...dl.pr.pr.pr.s.ul...dl.pr.s.ul...dl.s.ul...dl.s.ul...dl.pr.pr.s.ul...dl.pr.pr.s.ul...dl.pr.s.ul...dl.s.ul...dl.pr.pr.s.ul...dl.pr.s.ul...dl.pr.s.ul...dl.pr.s.ul...dl.s.ul...dl.pr.pr.s.ul...dl.pr.s.ul...dl.pr.s.ul...dl.pr.s.ul...dl.s.ul...dl.pr.pr.s.ul...dl.pr.s.ul...dl.pr.s.ul...dl.pr.s.ul...dl.s.ul.pr...dl.s.ul...dl.pr.pr.s.ul...dl.pr.s.ul...dl.pr.s.ul...dl.s.ul...dl.pr.pr.s.ul...dl.pr.s.ul...dl.pr.s.ul...dl.s.ul...dl.pr.s.ul...dl.pr.pr.s.ul...dl.pr.s.ul...dl.pr.s.ul...dl.s.ul...dl.pr.pr.s.ul...dl.s.ul...dl.pr.pr.s.ul...dl.pr.s.ul...dl.s.ul...dl.pr.pr.s.ul...dl.pr.s.ul...dl.s.ul...dl.pr.s.ul...dl.pr.s.ul...dl.pr.s.ul...dl.pr.pr.s.ul....s.ul....s.ul...dl.pr.s.ul...dl.s.ul...dl.pr.pr.s.ul...dl.pr.s.ul...dl.s.ul...dl.pr.pr.s.ul...dl.pr.s.ul....s.ul...dl.pr.s.ul....s.ul..."
     ]
    },
    {
     "data": {
      "text/plain": [
       "{'pool_return': [<hrrr_scraper.hrrr_lab.WorkplanEntry at 0x7f0359079100>,\n",
       "  <hrrr_scraper.hrrr_lab.WorkplanEntry at 0x7f0356174a60>,\n",
       "  <hrrr_scraper.hrrr_lab.WorkplanEntry at 0x7f03561740a0>,\n",
       "  <hrrr_scraper.hrrr_lab.WorkplanEntry at 0x7f0356174cd0>,\n",
       "  <hrrr_scraper.hrrr_lab.WorkplanEntry at 0x7f03561a6df0>,\n",
       "  <hrrr_scraper.hrrr_lab.WorkplanEntry at 0x7f035613e880>,\n",
       "  <hrrr_scraper.hrrr_lab.WorkplanEntry at 0x7f035613eaf0>,\n",
       "  <hrrr_scraper.hrrr_lab.WorkplanEntry at 0x7f035613eca0>,\n",
       "  <hrrr_scraper.hrrr_lab.WorkplanEntry at 0x7f03561cea60>,\n",
       "  <hrrr_scraper.hrrr_lab.WorkplanEntry at 0x7f0356126a60>,\n",
       "  <hrrr_scraper.hrrr_lab.WorkplanEntry at 0x7f0356126e80>,\n",
       "  <hrrr_scraper.hrrr_lab.WorkplanEntry at 0x7f0356103070>,\n",
       "  <hrrr_scraper.hrrr_lab.WorkplanEntry at 0x7f0359057c70>,\n",
       "  <hrrr_scraper.hrrr_lab.WorkplanEntry at 0x7f03561cebb0>,\n",
       "  <hrrr_scraper.hrrr_lab.WorkplanEntry at 0x7f03561ced60>,\n",
       "  <hrrr_scraper.hrrr_lab.WorkplanEntry at 0x7f03561cef10>,\n",
       "  <hrrr_scraper.hrrr_lab.WorkplanEntry at 0x7f0356126ac0>,\n",
       "  <hrrr_scraper.hrrr_lab.WorkplanEntry at 0x7f03560fa0d0>,\n",
       "  <hrrr_scraper.hrrr_lab.WorkplanEntry at 0x7f03560d8130>,\n",
       "  <hrrr_scraper.hrrr_lab.WorkplanEntry at 0x7f03560d82e0>,\n",
       "  <hrrr_scraper.hrrr_lab.WorkplanEntry at 0x7f0356126cd0>,\n",
       "  <hrrr_scraper.hrrr_lab.WorkplanEntry at 0x7f03abfc10a0>,\n",
       "  <hrrr_scraper.hrrr_lab.WorkplanEntry at 0x7f03abfc1250>,\n",
       "  <hrrr_scraper.hrrr_lab.WorkplanEntry at 0x7f03abfc1400>,\n",
       "  <hrrr_scraper.hrrr_lab.WorkplanEntry at 0x7f03561a6e20>,\n",
       "  <hrrr_scraper.hrrr_lab.WorkplanEntry at 0x7f03abfe3250>,\n",
       "  <hrrr_scraper.hrrr_lab.WorkplanEntry at 0x7f03abfe3400>,\n",
       "  <hrrr_scraper.hrrr_lab.WorkplanEntry at 0x7f03abfe35b0>,\n",
       "  <hrrr_scraper.hrrr_lab.WorkplanEntry at 0x7f03561a6eb0>,\n",
       "  <hrrr_scraper.hrrr_lab.WorkplanEntry at 0x7f03abff5400>,\n",
       "  <hrrr_scraper.hrrr_lab.WorkplanEntry at 0x7f03abff55b0>,\n",
       "  <hrrr_scraper.hrrr_lab.WorkplanEntry at 0x7f03abff5760>,\n",
       "  <hrrr_scraper.hrrr_lab.WorkplanEntry at 0x7f035613e580>,\n",
       "  <hrrr_scraper.hrrr_lab.WorkplanEntry at 0x7f03abf925b0>,\n",
       "  <hrrr_scraper.hrrr_lab.WorkplanEntry at 0x7f03abf92760>,\n",
       "  <hrrr_scraper.hrrr_lab.WorkplanEntry at 0x7f03abf92910>,\n",
       "  <hrrr_scraper.hrrr_lab.WorkplanEntry at 0x7f03560ddb50>,\n",
       "  <hrrr_scraper.hrrr_lab.WorkplanEntry at 0x7f03abfb6760>,\n",
       "  <hrrr_scraper.hrrr_lab.WorkplanEntry at 0x7f03abfb6910>,\n",
       "  <hrrr_scraper.hrrr_lab.WorkplanEntry at 0x7f03abfb6ac0>,\n",
       "  <hrrr_scraper.hrrr_lab.WorkplanEntry at 0x7f03abfb6550>,\n",
       "  <hrrr_scraper.hrrr_lab.WorkplanEntry at 0x7f03abf58850>,\n",
       "  <hrrr_scraper.hrrr_lab.WorkplanEntry at 0x7f03abf589a0>,\n",
       "  <hrrr_scraper.hrrr_lab.WorkplanEntry at 0x7f03abf58c70>,\n",
       "  <hrrr_scraper.hrrr_lab.WorkplanEntry at 0x7f03abf92250>,\n",
       "  <hrrr_scraper.hrrr_lab.WorkplanEntry at 0x7f03abf7dac0>,\n",
       "  <hrrr_scraper.hrrr_lab.WorkplanEntry at 0x7f03abf7dc70>,\n",
       "  <hrrr_scraper.hrrr_lab.WorkplanEntry at 0x7f03abf7de20>,\n",
       "  <hrrr_scraper.hrrr_lab.WorkplanEntry at 0x7f03abf7d6d0>,\n",
       "  <hrrr_scraper.hrrr_lab.WorkplanEntry at 0x7f03abf20ca0>,\n",
       "  <hrrr_scraper.hrrr_lab.WorkplanEntry at 0x7f03abf20e50>,\n",
       "  <hrrr_scraper.hrrr_lab.WorkplanEntry at 0x7f03abf3b040>,\n",
       "  <hrrr_scraper.hrrr_lab.WorkplanEntry at 0x7f03abf208b0>,\n",
       "  <hrrr_scraper.hrrr_lab.WorkplanEntry at 0x7f03abec1e50>,\n",
       "  <hrrr_scraper.hrrr_lab.WorkplanEntry at 0x7f03abedd040>,\n",
       "  <hrrr_scraper.hrrr_lab.WorkplanEntry at 0x7f03abedd1f0>,\n",
       "  <hrrr_scraper.hrrr_lab.WorkplanEntry at 0x7f03abec1be0>,\n",
       "  <hrrr_scraper.hrrr_lab.WorkplanEntry at 0x7f03abeff040>,\n",
       "  <hrrr_scraper.hrrr_lab.WorkplanEntry at 0x7f03abeff1f0>,\n",
       "  <hrrr_scraper.hrrr_lab.WorkplanEntry at 0x7f03abeff3a0>,\n",
       "  <hrrr_scraper.hrrr_lab.WorkplanEntry at 0x7f03abe84f70>,\n",
       "  <hrrr_scraper.hrrr_lab.WorkplanEntry at 0x7f03abe43280>,\n",
       "  <hrrr_scraper.hrrr_lab.WorkplanEntry at 0x7f03abe43430>,\n",
       "  <hrrr_scraper.hrrr_lab.WorkplanEntry at 0x7f03abe435e0>,\n",
       "  <hrrr_scraper.hrrr_lab.WorkplanEntry at 0x7f03abf20a60>,\n",
       "  <hrrr_scraper.hrrr_lab.WorkplanEntry at 0x7f03abe68370>,\n",
       "  <hrrr_scraper.hrrr_lab.WorkplanEntry at 0x7f03abe68520>,\n",
       "  <hrrr_scraper.hrrr_lab.WorkplanEntry at 0x7f03abe686d0>,\n",
       "  <hrrr_scraper.hrrr_lab.WorkplanEntry at 0x7f03abfeaee0>,\n",
       "  <hrrr_scraper.hrrr_lab.WorkplanEntry at 0x7f03abea01f0>,\n",
       "  <hrrr_scraper.hrrr_lab.WorkplanEntry at 0x7f03abea03a0>]}"
      ]
     },
     "execution_count": 7,
     "metadata": {},
     "output_type": "execute_result"
    }
   ],
   "source": [
    "pp.process(no_of_cpu=5, \n",
    "#            test = 2\n",
    "          )"
   ]
  },
  {
   "cell_type": "code",
   "execution_count": null,
   "id": "192e65be-2d66-48af-a048-fd157a1d66cd",
   "metadata": {},
   "outputs": [],
   "source": []
  }
 ],
 "metadata": {
  "kernelspec": {
   "display_name": "py38",
   "language": "python",
   "name": "py38"
  },
  "language_info": {
   "codemirror_mode": {
    "name": "ipython",
    "version": 3
   },
   "file_extension": ".py",
   "mimetype": "text/x-python",
   "name": "python",
   "nbconvert_exporter": "python",
   "pygments_lexer": "ipython3",
   "version": "3.8.12"
  }
 },
 "nbformat": 4,
 "nbformat_minor": 5
}
