{
 "cells": [
  {
   "cell_type": "code",
   "execution_count": null,
   "id": "4c418387-4385-4994-b3e4-a720ab6e355b",
   "metadata": {},
   "outputs": [],
   "source": []
  },
  {
   "cell_type": "code",
   "execution_count": null,
   "id": "95e635bf-97fe-412e-a67a-a454f08739c7",
   "metadata": {},
   "outputs": [],
   "source": []
  },
  {
   "cell_type": "code",
   "execution_count": null,
   "id": "58d632ed-e683-4135-be3f-c769674886df",
   "metadata": {},
   "outputs": [],
   "source": []
  },
  {
   "cell_type": "code",
   "execution_count": null,
   "id": "5e7784df-2923-4be0-925e-a2cd2fb06677",
   "metadata": {},
   "outputs": [],
   "source": []
  },
  {
   "cell_type": "code",
   "execution_count": 179,
   "id": "91ff5858-8988-4b22-a436-09d0b7131361",
   "metadata": {},
   "outputs": [],
   "source": [
    "import configparser\n",
    "import ast"
   ]
  },
  {
   "cell_type": "code",
   "execution_count": 242,
   "id": "d88da68e-ff49-46b2-ab17-cab2a762d09f",
   "metadata": {},
   "outputs": [],
   "source": [
    "config = configparser.ConfigParser(allow_no_value=True, )\n",
    "config.optionxform = str\n",
    "######################################\n",
    "sect_fileio = 'file_io'\n",
    "config[sect_fileio] = {}\n",
    "config[sect_fileio]['input_file_type'] = 'HRRRv4_3d'\n",
    "config[sect_fileio]['path2input'] = 'prog/hrrr_sraper/examples/operationalize/ncep_hrrr_3d.2133506000000.grib2'\n",
    "config[sect_fileio]['path2outputdir'] = 'prog/hrrr_sraper/examples/operationalize/'\n",
    "config[sect_fileio]['outputnameformat'] = 'hrrr_surfrad_{datetime}.nc'\n",
    "\n",
    "######################################\n",
    "sect_locations = 'locations'\n",
    "config[sect_locations] = {}\n",
    "config[sect_locations]['# These are the locations for which model values are extracted.'] = None\n",
    "config[sect_locations]['# Example:'] = None\n",
    "config[sect_locations][\"# TBL = 'name': 'Table Mountain (CO)', 'lat': 1, 'lon': 2\"] = None\n",
    "# config[sect_locations]['# '] = None\n",
    "# config[sect_locations]['# '] = None\n",
    "# config[sect_locations]['# '] = None\n",
    "# config[sect_locations]['# '] = None\n",
    "config[sect_locations]['TBL'] = \"'name': 'Table Mountain (CO)', 'lat': 1, 'lon': 2\"\n",
    "\n",
    "\n",
    "########################################\n",
    "sect_variables = 'variables'\n",
    "config[sect_variables] = {}\n",
    "config[sect_variables]['# Variables to be extracted. Comment out (add a # to the beginning of the line) variables that are not needed.'] = None\n",
    "config[sect_variables]['# For more info on variable see https://drive.google.com/drive/u/0/folders/1dUn_o9Nxoga9lKvGx7i_898_t8siOMJB'] = None\n",
    "config[sect_variables]['CH4_hf #Methane from Human fats'] = None\n"
   ]
  },
  {
   "cell_type": "code",
   "execution_count": 243,
   "id": "bf10d58c-669f-497b-bd3b-d70d271ca111",
   "metadata": {},
   "outputs": [],
   "source": [
    "p2conf = 'example.ini'\n",
    "with open(p2conf, 'w') as configfile:\n",
    "    config.write(configfile)"
   ]
  },
  {
   "cell_type": "code",
   "execution_count": null,
   "id": "3240de14-97c0-454b-9d25-21b0f8898ee1",
   "metadata": {},
   "outputs": [],
   "source": []
  },
  {
   "cell_type": "code",
   "execution_count": null,
   "id": "07c1173d-56e0-40ff-b465-c185476a1393",
   "metadata": {},
   "outputs": [],
   "source": []
  },
  {
   "cell_type": "code",
   "execution_count": 244,
   "id": "86f370bf-700d-4f56-b8cb-22e7ed0f94e0",
   "metadata": {},
   "outputs": [
    {
     "data": {
      "text/plain": [
       "['example.ini']"
      ]
     },
     "execution_count": 244,
     "metadata": {},
     "output_type": "execute_result"
    }
   ],
   "source": [
    "config_in = configparser.ConfigParser(allow_no_value=True,)\n",
    "config_in.read(p2conf)"
   ]
  },
  {
   "cell_type": "code",
   "execution_count": 238,
   "id": "4e51f507-3b2f-4481-b601-653083d0b58c",
   "metadata": {},
   "outputs": [],
   "source": [
    "sec = config['locations']"
   ]
  },
  {
   "cell_type": "code",
   "execution_count": 239,
   "id": "91ad22a9-21aa-438c-82d7-25ab47b4355d",
   "metadata": {},
   "outputs": [
    {
     "data": {
      "text/plain": [
       "['# These are the locations for which model values are extracted.',\n",
       " '# Example:',\n",
       " \"# TBL = 'name': 'Table Mountain (CO)', 'lat': 1, 'lon': 2\",\n",
       " 'TBL']"
      ]
     },
     "execution_count": 239,
     "metadata": {},
     "output_type": "execute_result"
    }
   ],
   "source": [
    "list(sec.keys())"
   ]
  },
  {
   "cell_type": "code",
   "execution_count": 240,
   "id": "7ae89681-197b-4c25-822a-9378ae0b2a28",
   "metadata": {},
   "outputs": [
    {
     "data": {
      "text/plain": [
       "{'name': 'Table Mountain (CO)', 'lat': 1, 'lon': 2}"
      ]
     },
     "execution_count": 240,
     "metadata": {},
     "output_type": "execute_result"
    }
   ],
   "source": [
    "ast.literal_eval(f'{{{sec[\"TBL\"]}}}')"
   ]
  },
  {
   "cell_type": "code",
   "execution_count": 241,
   "id": "cf1e5ef0-984d-4367-ace5-e5624f8668a3",
   "metadata": {},
   "outputs": [
    {
     "data": {
      "text/plain": [
       "[]"
      ]
     },
     "execution_count": 241,
     "metadata": {},
     "output_type": "execute_result"
    }
   ],
   "source": [
    "list(config_in['variables'].keys())"
   ]
  },
  {
   "cell_type": "code",
   "execution_count": null,
   "id": "afc48089-b8c9-4520-8c33-acf3fd528daf",
   "metadata": {},
   "outputs": [],
   "source": []
  }
 ],
 "metadata": {
  "kernelspec": {
   "display_name": "py38",
   "language": "python",
   "name": "py38"
  },
  "language_info": {
   "codemirror_mode": {
    "name": "ipython",
    "version": 3
   },
   "file_extension": ".py",
   "mimetype": "text/x-python",
   "name": "python",
   "nbconvert_exporter": "python",
   "pygments_lexer": "ipython3",
   "version": "3.8.12"
  }
 },
 "nbformat": 4,
 "nbformat_minor": 5
}
